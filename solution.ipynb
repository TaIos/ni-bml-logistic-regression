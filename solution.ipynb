{
 "cells": [
  {
   "cell_type": "markdown",
   "metadata": {},
   "source": [
    "# Logistická regrese - kvalita odhadu [30b]\n",
    "\n",
    "Tento týden jsme dělali logistickou regresi. V ní je laplaceovská aproximace, kde se hledá MAP odhad - na maximum aposteriorní distribuce se nasazuje gausovka. To maximum se hledá Newtonovou iterační metodou. A jako zajímavý projekt by mi přišlo zkusit porovnat:\n",
    "1) více kroků Newtona (ve skriptu/jupyteru je jen jeden)\n",
    "2) nějakou numerickou metodu pro hledání maxima (lze použít rovnou ze scipy)\n",
    "\n",
    "To porovnání by bylo z hlediska rychlosti konvergence odhadů (pro srovnání mi stačí vzít MLE odhady z sklearn).\n"
   ]
  },
  {
   "cell_type": "markdown",
   "metadata": {},
   "source": [
    "# Knihovny"
   ]
  },
  {
   "cell_type": "code",
   "execution_count": 26,
   "metadata": {},
   "outputs": [],
   "source": [
    "import pandas as pd\n",
    "from pathlib import Path"
   ]
  },
  {
   "cell_type": "markdown",
   "metadata": {},
   "source": [
    "# Dataset"
   ]
  },
  {
   "cell_type": "markdown",
   "metadata": {},
   "source": [
    "Dataset je *Skin Segmentation Dataset (Bhatt & Dhall)*. [Zdroj](https://archive.ics.uci.edu/ml/datasets/Skin+Segmentation)."
   ]
  },
  {
   "cell_type": "code",
   "execution_count": 54,
   "metadata": {},
   "outputs": [
    {
     "data": {
      "text/html": [
       "<div>\n",
       "<style scoped>\n",
       "    .dataframe tbody tr th:only-of-type {\n",
       "        vertical-align: middle;\n",
       "    }\n",
       "\n",
       "    .dataframe tbody tr th {\n",
       "        vertical-align: top;\n",
       "    }\n",
       "\n",
       "    .dataframe thead th {\n",
       "        text-align: right;\n",
       "    }\n",
       "</style>\n",
       "<table border=\"1\" class=\"dataframe\">\n",
       "  <thead>\n",
       "    <tr style=\"text-align: right;\">\n",
       "      <th></th>\n",
       "      <th>B</th>\n",
       "      <th>G</th>\n",
       "      <th>R</th>\n",
       "      <th>skin</th>\n",
       "    </tr>\n",
       "  </thead>\n",
       "  <tbody>\n",
       "    <tr>\n",
       "      <th>0</th>\n",
       "      <td>74</td>\n",
       "      <td>85</td>\n",
       "      <td>123</td>\n",
       "      <td>1</td>\n",
       "    </tr>\n",
       "    <tr>\n",
       "      <th>1</th>\n",
       "      <td>73</td>\n",
       "      <td>84</td>\n",
       "      <td>122</td>\n",
       "      <td>1</td>\n",
       "    </tr>\n",
       "    <tr>\n",
       "      <th>2</th>\n",
       "      <td>72</td>\n",
       "      <td>83</td>\n",
       "      <td>121</td>\n",
       "      <td>1</td>\n",
       "    </tr>\n",
       "    <tr>\n",
       "      <th>3</th>\n",
       "      <td>70</td>\n",
       "      <td>81</td>\n",
       "      <td>119</td>\n",
       "      <td>1</td>\n",
       "    </tr>\n",
       "    <tr>\n",
       "      <th>4</th>\n",
       "      <td>70</td>\n",
       "      <td>81</td>\n",
       "      <td>119</td>\n",
       "      <td>1</td>\n",
       "    </tr>\n",
       "  </tbody>\n",
       "</table>\n",
       "</div>"
      ],
      "text/plain": [
       "    B   G    R  skin\n",
       "0  74  85  123     1\n",
       "1  73  84  122     1\n",
       "2  72  83  121     1\n",
       "3  70  81  119     1\n",
       "4  70  81  119     1"
      ]
     },
     "metadata": {},
     "output_type": "display_data"
    },
    {
     "name": "stdout",
     "output_type": "stream",
     "text": [
      "Celkem 245057\n",
      "Skin 50859\n",
      "No Skin 194198\n"
     ]
    }
   ],
   "source": [
    "dpath = Path('ukol2/data')\n",
    "dfd = pd.read_csv(dpath / 'Skin_NonSkin.txt', sep='\\t', header=None)\n",
    "dfd.columns = ['B', 'G', 'R', 'skin']\n",
    "display(dfd.head())\n",
    "print(f'Celkem {len(dfd.index)}')\n",
    "print(f'Skin {sum(dfd.skin == 1)}')\n",
    "print(f'No Skin {sum(dfd.skin == 2)}')"
   ]
  },
  {
   "cell_type": "code",
   "execution_count": 60,
   "metadata": {},
   "outputs": [],
   "source": [
    "def data_generator(df):\n",
    "    for _, row in df.iterrows():\n",
    "        yield list(row)"
   ]
  },
  {
   "cell_type": "code",
   "execution_count": null,
   "metadata": {},
   "outputs": [],
   "source": []
  }
 ],
 "metadata": {
  "kernelspec": {
   "display_name": "Python 3",
   "language": "python",
   "name": "python3"
  },
  "language_info": {
   "codemirror_mode": {
    "name": "ipython",
    "version": 3
   },
   "file_extension": ".py",
   "mimetype": "text/x-python",
   "name": "python",
   "nbconvert_exporter": "python",
   "pygments_lexer": "ipython3",
   "version": "3.9.2"
  }
 },
 "nbformat": 4,
 "nbformat_minor": 4
}
